{
 "cells": [
  {
   "cell_type": "markdown",
   "metadata": {},
   "source": [
    "# PYTHON_CORTOS_UTILES_I"
   ]
  },
  {
   "cell_type": "code",
   "execution_count": 2,
   "metadata": {},
   "outputs": [
    {
     "data": {
      "text/plain": [
       "'\\nCreated dec 11, 2021\\n\\n@author: E1N1K0\\n\\n'"
      ]
     },
     "execution_count": 2,
     "metadata": {},
     "output_type": "execute_result"
    }
   ],
   "source": [
    "'''\n",
    "Created dec 11, 2021\n",
    "\n",
    "@author: E1N1K0\n",
    "\n",
    "'''"
   ]
  },
  {
   "cell_type": "code",
   "execution_count": 3,
   "metadata": {},
   "outputs": [
    {
     "name": "stdout",
     "output_type": "stream",
     "text": [
      "The Zen of Python, by Tim Peters\n",
      "\n",
      "Beautiful is better than ugly.\n",
      "Explicit is better than implicit.\n",
      "Simple is better than complex.\n",
      "Complex is better than complicated.\n",
      "Flat is better than nested.\n",
      "Sparse is better than dense.\n",
      "Readability counts.\n",
      "Special cases aren't special enough to break the rules.\n",
      "Although practicality beats purity.\n",
      "Errors should never pass silently.\n",
      "Unless explicitly silenced.\n",
      "In the face of ambiguity, refuse the temptation to guess.\n",
      "There should be one-- and preferably only one --obvious way to do it.\n",
      "Although that way may not be obvious at first unless you're Dutch.\n",
      "Now is better than never.\n",
      "Although never is often better than *right* now.\n",
      "If the implementation is hard to explain, it's a bad idea.\n",
      "If the implementation is easy to explain, it may be a good idea.\n",
      "Namespaces are one honking great idea -- let's do more of those!\n"
     ]
    }
   ],
   "source": [
    "# The zen of python.\n",
    "import this"
   ]
  },
  {
   "cell_type": "code",
   "execution_count": 4,
   "metadata": {},
   "outputs": [
    {
     "data": {
      "text/plain": [
       "['+', '++', '+++', '++++']"
      ]
     },
     "execution_count": 4,
     "metadata": {},
     "output_type": "execute_result"
    }
   ],
   "source": [
    "# Comprension de listas: Crearlas:\n",
    "# expresion   for elemento   in iterable \n",
    "\n",
    "def listaz(): \n",
    "    m = [n*'+' for n in range(1,5,1)] #range(inicio, final, paso): #se puede quitar *'+'\n",
    "    return m\n",
    "\n",
    "# Ejecución:\n",
    "listaz()"
   ]
  },
  {
   "cell_type": "markdown",
   "metadata": {},
   "source": [
    "COMPRENSION DE LISTAS YA CREADAS:"
   ]
  },
  {
   "cell_type": "code",
   "execution_count": 5,
   "metadata": {},
   "outputs": [],
   "source": [
    "#a = []\n",
    "\n",
    "# Si no hay lista usar range(inicio, final, paso):\n",
    "def listaz():\n",
    "    m = [n for n in range(1,11,2)]\n",
    "    return m"
   ]
  },
  {
   "cell_type": "code",
   "execution_count": 6,
   "metadata": {},
   "outputs": [],
   "source": [
    "# Recorrer toda la lista l:\n",
    "def listaa(l): \n",
    "    for i in l:\n",
    "        a.append(i**3)\n",
    "    return a"
   ]
  },
  {
   "cell_type": "code",
   "execution_count": 7,
   "metadata": {},
   "outputs": [],
   "source": [
    "# Recorrer toda la lista l:\n",
    "def listab(l):\n",
    "    b = [n for n in l]\n",
    "    return b"
   ]
  },
  {
   "cell_type": "code",
   "execution_count": 8,
   "metadata": {},
   "outputs": [],
   "source": [
    "# Recorrer toda la lista l (solo pares):\n",
    "def listac(l):\n",
    "    c = [n for n in l if n%2==0]\n",
    "    return c"
   ]
  },
  {
   "cell_type": "code",
   "execution_count": 9,
   "metadata": {},
   "outputs": [],
   "source": [
    "# Recorrer toda la lista l (solo pares y divisibles por 3):\n",
    "def listad(l):\n",
    "    d = [n for n in l if n%2==0 and n%3==0]\n",
    "    return d"
   ]
  },
  {
   "cell_type": "code",
   "execution_count": 10,
   "metadata": {},
   "outputs": [],
   "source": [
    "# Con else cambia:\n",
    "def listae(l):\n",
    "    e = [n if n%2==0 else n**2 for n in l]\n",
    "    return e"
   ]
  },
  {
   "cell_type": "code",
   "execution_count": 11,
   "metadata": {},
   "outputs": [],
   "source": [
    "# Multiplicar lista por si misma:\n",
    "def listaf(l):\n",
    "    f = [(x,y) for x in l for y in l]\n",
    "    return f"
   ]
  },
  {
   "cell_type": "code",
   "execution_count": 12,
   "metadata": {},
   "outputs": [
    {
     "data": {
      "text/plain": [
       "[(1, 1),\n",
       " (1, 2),\n",
       " (1, 3),\n",
       " (1, 4),\n",
       " (1, 5),\n",
       " (1, 6),\n",
       " (1, 7),\n",
       " (1, 8),\n",
       " (1, 9),\n",
       " (2, 1),\n",
       " (2, 2),\n",
       " (2, 3),\n",
       " (2, 4),\n",
       " (2, 5),\n",
       " (2, 6),\n",
       " (2, 7),\n",
       " (2, 8),\n",
       " (2, 9),\n",
       " (3, 1),\n",
       " (3, 2),\n",
       " (3, 3),\n",
       " (3, 4),\n",
       " (3, 5),\n",
       " (3, 6),\n",
       " (3, 7),\n",
       " (3, 8),\n",
       " (3, 9),\n",
       " (4, 1),\n",
       " (4, 2),\n",
       " (4, 3),\n",
       " (4, 4),\n",
       " (4, 5),\n",
       " (4, 6),\n",
       " (4, 7),\n",
       " (4, 8),\n",
       " (4, 9),\n",
       " (5, 1),\n",
       " (5, 2),\n",
       " (5, 3),\n",
       " (5, 4),\n",
       " (5, 5),\n",
       " (5, 6),\n",
       " (5, 7),\n",
       " (5, 8),\n",
       " (5, 9),\n",
       " (6, 1),\n",
       " (6, 2),\n",
       " (6, 3),\n",
       " (6, 4),\n",
       " (6, 5),\n",
       " (6, 6),\n",
       " (6, 7),\n",
       " (6, 8),\n",
       " (6, 9),\n",
       " (7, 1),\n",
       " (7, 2),\n",
       " (7, 3),\n",
       " (7, 4),\n",
       " (7, 5),\n",
       " (7, 6),\n",
       " (7, 7),\n",
       " (7, 8),\n",
       " (7, 9),\n",
       " (8, 1),\n",
       " (8, 2),\n",
       " (8, 3),\n",
       " (8, 4),\n",
       " (8, 5),\n",
       " (8, 6),\n",
       " (8, 7),\n",
       " (8, 8),\n",
       " (8, 9),\n",
       " (9, 1),\n",
       " (9, 2),\n",
       " (9, 3),\n",
       " (9, 4),\n",
       " (9, 5),\n",
       " (9, 6),\n",
       " (9, 7),\n",
       " (9, 8),\n",
       " (9, 9)]"
      ]
     },
     "execution_count": 12,
     "metadata": {},
     "output_type": "execute_result"
    }
   ],
   "source": [
    "# Ejecución:\n",
    "#listaa([1,2,3,4,5,6,7,8,9])\n",
    "#listab([1,2,3,4,5,6,7,8,9])\n",
    "#listac([1,2,3,4,5,6,7,8,9])\n",
    "#listad([1,2,3,4,5,6,7,8,9])   \n",
    "#listae([1,2,3,4,5,6,7,8,9]) \n",
    "listaf([1,2,3,4,5,6,7,8,9])"
   ]
  },
  {
   "cell_type": "markdown",
   "metadata": {},
   "source": [
    "________________________________________________________________________"
   ]
  },
  {
   "cell_type": "code",
   "execution_count": 14,
   "metadata": {},
   "outputs": [
    {
     "data": {
      "text/plain": [
       "[['Hola', 'que', 'ac'], ['tu', 'ahi', 'lo'], ['ves', '09']]"
      ]
     },
     "execution_count": 14,
     "metadata": {},
     "output_type": "execute_result"
    }
   ],
   "source": [
    "#Dado un texto: genere lista de a n elementos(palabras):\n",
    "def lista_n_elementos(texto):                                              # Define la funcion: Dado un texto.\n",
    "    b = texto.split()                                                      # Separa\n",
    "    n = 3                                                                  # Numero de elementos\n",
    "    c = [b[i:i+n] for i in range(0, len(b), n)]                            # Ecuación: Genere lista de a n elementos. Puedo quiarle n si quiero que avance el segundo array desde el segundo elemento.\n",
    "    return c                                                               # Devuelve: el resultado de la función.\n",
    "\n",
    "#Ejecución:\n",
    "lista_n_elementos(\"Hola que ac tu ahi lo ves 09 \")                         # Ejecuta: Requiere un texto."
   ]
  },
  {
   "cell_type": "code",
   "execution_count": 15,
   "metadata": {},
   "outputs": [
    {
     "data": {
      "text/plain": [
       "['Hola', 'ola', 'ula', '1']"
      ]
     },
     "execution_count": 15,
     "metadata": {},
     "output_type": "execute_result"
    }
   ],
   "source": [
    "# Separar palabras de la lista:\n",
    "def sep_pal_lista(words):                                                  # Define la funcion: Dado un texto. \n",
    "    return words.split()                                                   # Devuelve: el resultado de la función: Palabras del texto, separadas.\n",
    "\n",
    "# Ejecución: \n",
    "sep_pal_lista(\"Hola ola ula 1\")                                            # Ejecuta: Requiere un texto."
   ]
  },
  {
   "cell_type": "code",
   "execution_count": 16,
   "metadata": {},
   "outputs": [
    {
     "data": {
      "text/plain": [
       "['Ingre', 'sa ca', 'dena ', '(text', 'o) a ', 'separ', 'ar: ']"
      ]
     },
     "execution_count": 16,
     "metadata": {},
     "output_type": "execute_result"
    }
   ],
   "source": [
    "#Descomponer cadena (de texto) en lista a en n caracteres por elemento:\n",
    "def entero(texto, n):                                                      # Define la funcion: Dado un texto y n caracteres por elemento.\n",
    "    separa = [texto[i:i+n] for i in range(0, len(texto), n)]               # Ecuación: Separa el texto en n caracteres por elemento. Incluye espacios!\n",
    "    return separa                                                          # Devuelve: el resultado de la ecuacion separa.\n",
    "\n",
    "# Ejecución:\n",
    "entero('Ingresa cadena (texto) a separar: ', 5)                            # Ejecuta: Requiere un texto."
   ]
  },
  {
   "cell_type": "code",
   "execution_count": 17,
   "metadata": {},
   "outputs": [
    {
     "name": "stdout",
     "output_type": "stream",
     "text": [
      "Hay 2 numeros.\n"
     ]
    },
    {
     "data": {
      "text/plain": [
       "True"
      ]
     },
     "execution_count": 17,
     "metadata": {},
     "output_type": "execute_result"
    }
   ],
   "source": [
    "# Determinar si hay numeros o determinar la cantidad de numeros en un texto:\n",
    "def cuantos_hay(words: str):                                               # Define la funcion: Dado un texto.\n",
    "    b = [i for i in words.split() if i.isnumeric() == True]                # Genera lista si hay numeros dentro del texto. \n",
    "    print('Hay ',len(b),' numeros.', sep='')                               # Ecuación: Cuenta cantidad de numeros en el texto (con len).\n",
    "    return False if len(b) == 0 else True                                  # Devuelve: el resultado de la función: Si es vacio (no identifica numeros) es False.\n",
    "\n",
    "# Ejecución:\n",
    "cuantos_hay(\"He jo ki 99 lo 83 hola j98p\")                                 # Ejecuta: Requiere un texto."
   ]
  },
  {
   "cell_type": "code",
   "execution_count": 18,
   "metadata": {},
   "outputs": [
    {
     "data": {
      "text/plain": [
       "['es digit o alpha',\n",
       " 'es digit o alpha',\n",
       " 'es digit o alpha',\n",
       " 'es digit o alpha',\n",
       " 'No es digit o alpha',\n",
       " 'No es digit o alpha']"
      ]
     },
     "execution_count": 18,
     "metadata": {},
     "output_type": "execute_result"
    }
   ],
   "source": [
    "# Detectar que cada caracter sea digito o letra:\n",
    "def que_es(text: str):\n",
    "    a = ['es digit o alpha' if i.isdigit() == True or i.isalpha() == True else 'No es digit o alpha' for i in text]    #'es digit o alpha' se puede cambiar por True\n",
    "    return a\n",
    "\n",
    "# Ejecución:\n",
    "que_es('ab12?=')"
   ]
  }
 ],
 "metadata": {
  "kernelspec": {
   "display_name": "Python 3 (ipykernel)",
   "language": "python",
   "name": "python3"
  },
  "language_info": {
   "codemirror_mode": {
    "name": "ipython",
    "version": 3
   },
   "file_extension": ".py",
   "mimetype": "text/x-python",
   "name": "python",
   "nbconvert_exporter": "python",
   "pygments_lexer": "ipython3",
   "version": "3.8.10"
  }
 },
 "nbformat": 4,
 "nbformat_minor": 4
}
