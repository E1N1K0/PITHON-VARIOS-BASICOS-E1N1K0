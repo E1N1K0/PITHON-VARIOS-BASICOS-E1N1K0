{
 "cells": [
  {
   "cell_type": "markdown",
   "metadata": {},
   "source": [
    "# PYTHON CORTOS UTILES IV"
   ]
  },
  {
   "cell_type": "code",
   "execution_count": null,
   "metadata": {},
   "outputs": [],
   "source": [
    "#Ver datos faltantes:\n",
    "data.isnull().sum()    # data puede ser un archivo csv con la información."
   ]
  },
  {
   "cell_type": "code",
   "execution_count": null,
   "metadata": {},
   "outputs": [],
   "source": [
    "# Graficar correlacion de datos en data:\n",
    "\n",
    "#Para graficar:\n",
    "import seaborn as sns\n",
    "import matplotlib.pyplot as plt\n",
    "%matplotlib inline\n",
    "\n",
    "sns.heatmap(train_data.corr(),cmap='coolwarm')\n",
    "plt.title('titanic.corr()')"
   ]
  },
  {
   "cell_type": "code",
   "execution_count": null,
   "metadata": {},
   "outputs": [],
   "source": [
    "# para ambos archivos (train y test), limpiar los que tienen muchos nan y llenar los nan que queden con median.\n",
    "def clean(train_data):\n",
    "    train_data = train_data.drop(['Ticket', 'Cabin', 'Name','PassengerId'], axis=1)\n",
    "    \n",
    "    cols = ['SibSp', 'Parch', 'Fare', 'Age']\n",
    "    for col in cols:\n",
    "        train_data[col].fillna(train_data[col].median(), inplace=True)\n",
    "    return train_data\n",
    "\n",
    "train_data = clean(train_data)\n",
    "test_data = clean(test_data)"
   ]
  }
 ],
 "metadata": {
  "kernelspec": {
   "display_name": "Python 3 (ipykernel)",
   "language": "python",
   "name": "python3"
  },
  "language_info": {
   "codemirror_mode": {
    "name": "ipython",
    "version": 3
   },
   "file_extension": ".py",
   "mimetype": "text/x-python",
   "name": "python",
   "nbconvert_exporter": "python",
   "pygments_lexer": "ipython3",
   "version": "3.8.10"
  }
 },
 "nbformat": 4,
 "nbformat_minor": 4
}
