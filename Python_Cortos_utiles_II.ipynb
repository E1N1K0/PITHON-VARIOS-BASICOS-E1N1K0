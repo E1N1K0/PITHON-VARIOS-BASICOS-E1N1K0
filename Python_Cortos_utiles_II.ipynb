{
 "cells": [
  {
   "cell_type": "markdown",
   "metadata": {},
   "source": [
    "# PYTHON CORTOS UTILES II"
   ]
  },
  {
   "cell_type": "code",
   "execution_count": 2,
   "metadata": {},
   "outputs": [
    {
     "data": {
      "text/plain": [
       "'\\nCreated jan 14, 2022\\n\\n@author: E1N1K0\\n\\n'"
      ]
     },
     "execution_count": 2,
     "metadata": {},
     "output_type": "execute_result"
    }
   ],
   "source": [
    "'''\n",
    "Created jan 14, 2022\n",
    "\n",
    "@author: E1N1K0\n",
    "\n",
    "'''"
   ]
  },
  {
   "cell_type": "code",
   "execution_count": 4,
   "metadata": {},
   "outputs": [
    {
     "data": {
      "text/plain": [
       "4"
      ]
     },
     "execution_count": 4,
     "metadata": {},
     "output_type": "execute_result"
    }
   ],
   "source": [
    "# Binary search:\n",
    "def binary_search(lista, target):\n",
    "    low = 0                                                 # ultimo valor de la lista\n",
    "    high = len(lista)-1                                     # primer valor de la lista (parte de cero asi que resto 1)\n",
    "    \n",
    "    while low <= high:                                      # siempre que el menor sea menor o igual que el mayor\n",
    "        mid = (low + high)                                  # Calcula el valor medio del rango####\n",
    "        guess = lista[mid]\n",
    "        if guess == target:                                 # si se encuentra exactamente con el valor buscado\n",
    "            return mid\n",
    "        if guess > target:                                  # si el valor adivinado es muy alto\n",
    "            high = mid - 1                                  # el maximo valor ahora sera uno antes del mayor anterior\n",
    "        else:\n",
    "            low = mid + 1                                   # si el valor adivinado es muy bajo\n",
    "    return 'El valor buscado no se encuentra en la lista.'  # el valor no existe\n",
    "\n",
    "#Ejecución:\n",
    "binary_search([1,3,5,7,9], 9)"
   ]
  },
  {
   "cell_type": "code",
   "execution_count": 5,
   "metadata": {},
   "outputs": [
    {
     "ename": "FileNotFoundError",
     "evalue": "[Errno 2] No such file or directory: 'datos.csv'",
     "output_type": "error",
     "traceback": [
      "\u001b[1;31m---------------------------------------------------------------------------\u001b[0m",
      "\u001b[1;31mFileNotFoundError\u001b[0m                         Traceback (most recent call last)",
      "\u001b[1;32m~\\AppData\\Local\\Temp/ipykernel_19620/2641713435.py\u001b[0m in \u001b[0;36m<module>\u001b[1;34m\u001b[0m\n\u001b[0;32m      5\u001b[0m \u001b[1;33m\u001b[0m\u001b[0m\n\u001b[0;32m      6\u001b[0m \u001b[1;31m#Requerimientos del mensaje:\u001b[0m\u001b[1;33m\u001b[0m\u001b[1;33m\u001b[0m\u001b[1;33m\u001b[0m\u001b[0m\n\u001b[1;32m----> 7\u001b[1;33m \u001b[1;32mwith\u001b[0m \u001b[0mopen\u001b[0m\u001b[1;33m(\u001b[0m\u001b[1;34m'datos.csv'\u001b[0m\u001b[1;33m,\u001b[0m\u001b[1;34m'r'\u001b[0m\u001b[1;33m)\u001b[0m \u001b[1;32mas\u001b[0m \u001b[0mcsv_file\u001b[0m\u001b[1;33m:\u001b[0m\u001b[1;33m\u001b[0m\u001b[1;33m\u001b[0m\u001b[0m\n\u001b[0m\u001b[0;32m      8\u001b[0m     \u001b[0mcsv_reader\u001b[0m \u001b[1;33m=\u001b[0m \u001b[0mcsv\u001b[0m\u001b[1;33m.\u001b[0m\u001b[0mreader\u001b[0m\u001b[1;33m(\u001b[0m\u001b[0mcsv_file\u001b[0m\u001b[1;33m)\u001b[0m\u001b[1;33m\u001b[0m\u001b[1;33m\u001b[0m\u001b[0m\n\u001b[0;32m      9\u001b[0m     \u001b[1;32mfor\u001b[0m \u001b[0mline\u001b[0m \u001b[1;32min\u001b[0m \u001b[0mcsv_reader\u001b[0m\u001b[1;33m:\u001b[0m\u001b[1;33m\u001b[0m\u001b[1;33m\u001b[0m\u001b[0m\n",
      "\u001b[1;31mFileNotFoundError\u001b[0m: [Errno 2] No such file or directory: 'datos.csv'"
     ]
    }
   ],
   "source": [
    "#Crear texto desde csv: \n",
    "#(puedes crear datos.csv en una hoja de excel y guardarlo en la misma carpeta).\n",
    "\n",
    "import csv\n",
    "\n",
    "#Requerimientos del mensaje:\n",
    "with open('datos.csv','r') as csv_file:\n",
    "    csv_reader = csv.reader(csv_file)\n",
    "    for line in csv_reader:       \n",
    "        #define campos CSV:\n",
    "        asunto = line[0]        \n",
    "        destinatario = line[1]\n",
    "        nombre_destinatario = line[2]\n",
    "        producto = line[3]\n",
    "        #Define texto plano:\n",
    "        texto=\"El asunto es: \"+asunto+\"el destinatario es: \"+destinatario+\" y el producto es: \"+producto\n",
    "        print(texto)"
   ]
  },
  {
   "cell_type": "code",
   "execution_count": null,
   "metadata": {},
   "outputs": [],
   "source": []
  }
 ],
 "metadata": {
  "kernelspec": {
   "display_name": "Python 3 (ipykernel)",
   "language": "python",
   "name": "python3"
  },
  "language_info": {
   "codemirror_mode": {
    "name": "ipython",
    "version": 3
   },
   "file_extension": ".py",
   "mimetype": "text/x-python",
   "name": "python",
   "nbconvert_exporter": "python",
   "pygments_lexer": "ipython3",
   "version": "3.8.10"
  }
 },
 "nbformat": 4,
 "nbformat_minor": 4
}
